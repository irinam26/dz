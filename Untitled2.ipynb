{
 "cells": [
  {
   "cell_type": "markdown",
   "metadata": {},
   "source": [
    "Задание 1"
   ]
  },
  {
   "cell_type": "code",
   "execution_count": null,
   "metadata": {},
   "outputs": [],
   "source": [
    "len('Насколько проще было бы писать программы, если бы не заказчики') > len('640Кб должно хватить для любых задач. Билл Гейтс (по легенде)')\n",
    "  "
   ]
  },
  {
   "cell_type": "code",
   "execution_count": null,
   "metadata": {},
   "outputs": [],
   "source": [
    "len('640Кб должно хватить для любых задач. Билл Гейтс (по легенде)') < len('Насколько проще было бы писать программы, если бы не заказчики')\n",
    "  "
   ]
  },
  {
   "cell_type": "code",
   "execution_count": null,
   "metadata": {},
   "outputs": [],
   "source": [
    "len('Насколько проще было бы писать программы, если бы не заказчики') >= len('Насколько проще было бы писать программы, если бы не заказчики')"
   ]
  },
  {
   "cell_type": "markdown",
   "metadata": {},
   "source": [
    "Задание 2"
   ]
  },
  {
   "cell_type": "code",
   "execution_count": null,
   "metadata": {},
   "outputs": [],
   "source": [
    "year = 2020\n",
    "if year >= 2020:\n",
    "    print('Високосный год')\n",
    "if year <= 2019:\n",
    "    print('Обычный год')"
   ]
  },
  {
   "cell_type": "markdown",
   "metadata": {},
   "source": [
    "Задание 3"
   ]
  },
  {
   "cell_type": "code",
   "execution_count": null,
   "metadata": {},
   "outputs": [],
   "source": [
    "date = 10\n",
    "month = 3\n",
    "if (date >= 20 and date <= 30 and month ==4) or (month == 5 and date >= 1 and date <= 20):\n",
    "    print(\"Знак зодиака: Телец\")\n",
    "elif (date >= 21 and date <= 31 and month ==5) or (month == 6 and date >= 1 and date <= 20):\n",
    "    print(\"Знак зодиака: Близнецы\")\n",
    "elif (date >= 21 and date <= 30 and month ==6) or (month == 7 and date >= 1 and date <= 22):\n",
    "    print(\"Знак зодиака: Рак\")    \n",
    "elif (date >= 23 and date <= 31 and month ==7) or (month == 8 and date >= 1 and date <= 22):\n",
    "    print(\"Знак зодиака: Лев\")    \n",
    "elif (date >= 23 and date <= 31 and month ==8) or (month == 9 and date >= 1 and date <= 22):\n",
    "    print(\"Знак зодиака: Дева\")   \n",
    "elif (date >= 23 and date <= 30 and month ==9) or (month == 10 and date >= 1 and date <= 22):\n",
    "    print(\"Знак зодиака: Весы\")    \n",
    "elif (date >= 23 and date <= 30 and month ==10) or (month == 11 and date >= 1 and date <= 21):\n",
    "    print(\"Знак зодиака: Скорпион\")   \n",
    "elif (date >= 22 and date <= 30 and month ==11) or (month == 12 and date >= 1 and date <= 21):\n",
    "    print(\"Знак зодиака: Стрелец\")   \n",
    "elif (date >= 22 and date <= 31 and month ==12) or (month == 1 and date >= 1 and date <= 19):\n",
    "    print(\"Знак зодиака: Козерог\") \n",
    "elif (date >= 20 and date <= 31 and month ==1) or (month == 2 and date >= 1 and date <= 18):\n",
    "    print(\"Знак зодиака: Водолей\")   \n",
    "elif (date >= 19 and date <= 29 and month ==2) or (month == 3 and date >= 1 and date <= 20):\n",
    "    print(\"Знак зодиака: Рыбы\")     \n",
    "elif (date >= 21 and date <= 31 and month ==3) or (month == 4 and date >= 1 and date <= 19):\n",
    "    print(\"Знак зодиака: Овен\")     "
   ]
  },
  {
   "cell_type": "markdown",
   "metadata": {},
   "source": [
    "Задание 4"
   ]
  },
  {
   "cell_type": "code",
   "execution_count": 8,
   "metadata": {},
   "outputs": [
    {
     "name": "stdout",
     "output_type": "stream",
     "text": [
      "Стандартная коробка №3\n"
     ]
    }
   ],
   "source": [
    "width = 10\n",
    "length = 180\n",
    "height = 5\n",
    "if width <= 15 and length <= 15 and height <= 15:\n",
    "    print('Коробка №1')\n",
    "elif (width >= 15  and width <= 50) or (length >= 15 and length <= 50) or (height >= 15 and height <= 50):\n",
    "    print('Коробка №2')\n",
    "elif length >= 200:\n",
    "     print('Упаковка для лыж')\n",
    "else:\n",
    "    print('Стандартная коробка №3')"
   ]
  }
 ],
 "metadata": {
  "kernelspec": {
   "display_name": "Python 3",
   "language": "python",
   "name": "python3"
  },
  "language_info": {
   "codemirror_mode": {
    "name": "ipython",
    "version": 3
   },
   "file_extension": ".py",
   "mimetype": "text/x-python",
   "name": "python",
   "nbconvert_exporter": "python",
   "pygments_lexer": "ipython3",
   "version": "3.8.3"
  }
 },
 "nbformat": 4,
 "nbformat_minor": 4
}
